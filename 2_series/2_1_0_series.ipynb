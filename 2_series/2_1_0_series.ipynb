{
 "metadata": {
  "language_info": {
   "codemirror_mode": {
    "name": "ipython",
    "version": 3
   },
   "file_extension": ".py",
   "mimetype": "text/x-python",
   "name": "python",
   "nbconvert_exporter": "python",
   "pygments_lexer": "ipython3",
   "version": 3
  },
  "orig_nbformat": 2
 },
 "nbformat": 4,
 "nbformat_minor": 2,
 "cells": [
  {
   "source": [
    "## What's Series\n",
    "\n",
    " series is one basic data structure of pandas. I have not experienced data analytics for business.enough. but I need understand series, series basic operation."
   ],
   "cell_type": "markdown",
   "metadata": {}
  }
 ]
}