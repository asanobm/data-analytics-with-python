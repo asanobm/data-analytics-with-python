{
 "metadata": {
  "language_info": {
   "codemirror_mode": {
    "name": "ipython",
    "version": 3
   },
   "file_extension": ".py",
   "mimetype": "text/x-python",
   "name": "python",
   "nbconvert_exporter": "python",
   "pygments_lexer": "ipython3",
   "version": "3.8.5-final"
  },
  "orig_nbformat": 2,
  "kernelspec": {
   "name": "Python 3.8.5 64-bit ('data-preprocess-with-pandas': pipenv)",
   "display_name": "Python 3.8.5 64-bit ('data-preprocess-with-pandas': pipenv)",
   "metadata": {
    "interpreter": {
     "hash": "59547192564d1544d014bd69086e897d7a9e0f26b650c0ed0009a843811ec1b5"
    }
   }
  }
 },
 "nbformat": 4,
 "nbformat_minor": 2,
 "cells": [
  {
   "source": [
    "# base operation of series\n",
    "\n",
    "the series object is a base data structure on pandas.this notebook is explaining for the base operation and method of the series objects.\n",
    "\n",
    "## Attribute of series\n",
    "\n",
    " First, check the index attribute for the series. index attribute is the index of series. the series index default type is RangeIndex. If you selected integer, the index type is Int64Index. A string is Index.\n",
    "\n",
    "dtype attribute is an element data type of series. can define the series element data type is multifold. "
   ],
   "cell_type": "markdown",
   "metadata": {}
  },
  {
   "cell_type": "code",
   "execution_count": 1,
   "metadata": {},
   "outputs": [],
   "source": [
    "# import package\n",
    "import pandas as pd\n",
    "import numpy as np"
   ]
  },
  {
   "cell_type": "code",
   "execution_count": 2,
   "metadata": {
    "tags": []
   },
   "outputs": [
    {
     "output_type": "stream",
     "name": "stdout",
     "text": "RangeIndex(start=0, stop=5, step=1)\nInt64Index([0, 1, 2, 3, 4], dtype='int64')\nIndex(['A', 'B', 'C', 'D', 'E'], dtype='object')\n"
    }
   ],
   "source": [
    "val = [1, 2, 3, 4, 5]\n",
    "ser1 = pd.Series(val)\n",
    "ser2 = pd.Series(val, index=[0, 1, 2, 3, 4])\n",
    "ser3 = pd.Series(val, index=list('ABCDE'))\n",
    "\n",
    "print(ser1.index)\n",
    "print(ser2.index)\n",
    "print(ser3.index)"
   ]
  },
  {
   "cell_type": "code",
   "execution_count": 4,
   "metadata": {
    "tags": []
   },
   "outputs": [
    {
     "output_type": "stream",
     "name": "stdout",
     "text": "object int64 float64 bool object object\n"
    }
   ],
   "source": [
    "a = pd.Series(['a', 'b', 'c'])\n",
    "b = pd.Series([1, 2, 3])\n",
    "c = pd.Series([1.0, 2.0, 3.0])\n",
    "d = pd.Series([True, False])\n",
    "e = pd.Series(['a', 1, False])\n",
    "f = pd.Series([1, False])\n",
    "print(a.dtype, b.dtype, c.dtype, d.dtype, e.dtype, f.dtype)"
   ]
  },
  {
   "source": [
    "How to refer the index of series is use `[ ]`. other use `loc` attribute or `iloc` attribute."
   ],
   "cell_type": "markdown",
   "metadata": {}
  },
  {
   "cell_type": "code",
   "execution_count": 5,
   "metadata": {},
   "outputs": [
    {
     "output_type": "execute_result",
     "data": {
      "text/plain": "1    1\n2    2\n3    3\ndtype: int64"
     },
     "metadata": {},
     "execution_count": 5
    }
   ],
   "source": [
    "a = pd.Series([1, 2, 3], index=[1, 2, 3])\n",
    "a"
   ]
  },
  {
   "cell_type": "code",
   "execution_count": 6,
   "metadata": {},
   "outputs": [
    {
     "output_type": "execute_result",
     "data": {
      "text/plain": "a    1\nb    2\nc    3\ndtype: int64"
     },
     "metadata": {},
     "execution_count": 6
    }
   ],
   "source": [
    "b = pd.Series([1,2,3], index=list('abc'))\n",
    "b"
   ]
  },
  {
   "cell_type": "code",
   "execution_count": 7,
   "metadata": {
    "tags": []
   },
   "outputs": [
    {
     "output_type": "stream",
     "name": "stdout",
     "text": "1\n1\n"
    }
   ],
   "source": [
    "print(a.loc[1])\n",
    "print(b.loc['a'])"
   ]
  },
  {
   "cell_type": "code",
   "execution_count": 8,
   "metadata": {
    "tags": []
   },
   "outputs": [
    {
     "output_type": "stream",
     "name": "stdout",
     "text": "1\n1\n"
    }
   ],
   "source": [
    "print(a.iloc[0])\n",
    "print(b.iloc[0])"
   ]
  },
  {
   "cell_type": "code",
   "execution_count": 9,
   "metadata": {},
   "outputs": [
    {
     "output_type": "execute_result",
     "data": {
      "text/plain": "1    1\n2    2\ndtype: int64"
     },
     "metadata": {},
     "execution_count": 9
    }
   ],
   "source": [
    "a.iloc[0:2]"
   ]
  },
  {
   "cell_type": "code",
   "execution_count": 10,
   "metadata": {},
   "outputs": [
    {
     "output_type": "execute_result",
     "data": {
      "text/plain": "a    1\nb    2\ndtype: int64"
     },
     "metadata": {},
     "execution_count": 10
    }
   ],
   "source": [
    "b.loc['a': 'b']"
   ]
  },
  {
   "source": [
    "check series size"
   ],
   "cell_type": "markdown",
   "metadata": {}
  },
  {
   "cell_type": "code",
   "execution_count": 12,
   "metadata": {
    "tags": []
   },
   "outputs": [
    {
     "output_type": "stream",
     "name": "stdout",
     "text": "5\n"
    }
   ],
   "source": [
    "ser = pd.Series([1, 2, 3, 4 , 'a'])\n",
    "print(ser.size)"
   ]
  },
  {
   "source": [
    "is dup"
   ],
   "cell_type": "markdown",
   "metadata": {}
  },
  {
   "cell_type": "code",
   "execution_count": 14,
   "metadata": {
    "tags": []
   },
   "outputs": [
    {
     "output_type": "stream",
     "name": "stdout",
     "text": "True\nFalse\n"
    }
   ],
   "source": [
    "a = pd.Series([1,2,3])\n",
    "b = pd.Series([1,1,3])\n",
    "print(a.is_unique)\n",
    "print(b.is_unique)"
   ]
  },
  {
   "cell_type": "code",
   "execution_count": null,
   "metadata": {},
   "outputs": [],
   "source": []
  }
 ]
}