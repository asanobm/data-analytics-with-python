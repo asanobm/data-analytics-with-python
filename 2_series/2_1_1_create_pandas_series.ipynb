{
 "metadata": {
  "language_info": {
   "codemirror_mode": {
    "name": "ipython",
    "version": 3
   },
   "file_extension": ".py",
   "mimetype": "text/x-python",
   "name": "python",
   "nbconvert_exporter": "python",
   "pygments_lexer": "ipython3",
   "version": "3.8.5-final"
  },
  "orig_nbformat": 2,
  "kernelspec": {
   "name": "Python 3.8.5 64-bit ('data-preprocess-with-pandas': pipenv)",
   "display_name": "Python 3.8.5 64-bit ('data-preprocess-with-pandas': pipenv)",
   "metadata": {
    "interpreter": {
     "hash": "59547192564d1544d014bd69086e897d7a9e0f26b650c0ed0009a843811ec1b5"
    }
   }
  }
 },
 "nbformat": 4,
 "nbformat_minor": 2,
 "cells": [
  {
   "source": [
    "# Create Pandas series\n",
    "\n",
    "for use Pandas series, you import the Pandas package.\n",
    "\n",
    "and to create pandas series use the Series function from pandas."
   ],
   "cell_type": "markdown",
   "metadata": {}
  },
  {
   "cell_type": "code",
   "execution_count": 1,
   "metadata": {},
   "outputs": [],
   "source": [
    "\"\"\"\n",
    "import pandas or numpy\n",
    "\"\"\"\n",
    "import pandas as pd\n",
    "import numpy as np"
   ]
  },
  {
   "source": [
    "## to create series from list.\n",
    "\n",
    "To make series, use a Series function of pandas. "
   ],
   "cell_type": "markdown",
   "metadata": {}
  },
  {
   "cell_type": "code",
   "execution_count": 2,
   "metadata": {
    "tags": []
   },
   "outputs": [
    {
     "output_type": "stream",
     "name": "stdout",
     "text": "0    1\n1    2\n2    3\ndtype: int64\n"
    }
   ],
   "source": [
    "# create series object.\n",
    "ser = pd.Series([1, 2, 3])\n",
    "print(ser)"
   ]
  },
  {
   "source": [
    "Left is index column, right is value column.\n",
    "dtype is values dtype.\n",
    "\n",
    "When creating a series from a string, the dtype of the series becomes object type."
   ],
   "cell_type": "markdown",
   "metadata": {}
  },
  {
   "cell_type": "code",
   "execution_count": 3,
   "metadata": {
    "tags": []
   },
   "outputs": [
    {
     "output_type": "stream",
     "name": "stdout",
     "text": "0    A\n1    B\ndtype: object\n"
    }
   ],
   "source": [
    "ser = pd.Series(['A', 'B'])\n",
    "print(ser)"
   ]
  },
  {
   "source": [
    "to create series from numpy array."
   ],
   "cell_type": "markdown",
   "metadata": {}
  },
  {
   "cell_type": "code",
   "execution_count": 4,
   "metadata": {
    "tags": []
   },
   "outputs": [
    {
     "output_type": "stream",
     "name": "stdout",
     "text": "0    72\n1    51\n2    69\n3    55\n4    87\n5    78\ndtype: int64\n"
    }
   ],
   "source": [
    "weight_arr = np.array([72, 51, 69, 55, 87, 78])\n",
    "weight_series = pd.Series(weight_arr)\n",
    "print(weight_series)"
   ]
  },
  {
   "source": [
    "add name property to series.\n",
    "\n",
    "> I don't understand when to use the series name."
   ],
   "cell_type": "markdown",
   "metadata": {}
  },
  {
   "cell_type": "code",
   "execution_count": 5,
   "metadata": {
    "tags": []
   },
   "outputs": [
    {
     "output_type": "stream",
     "name": "stdout",
     "text": "0    1\n1    2\n2    3\nName: Series, dtype: int64\n"
    }
   ],
   "source": [
    "ser = pd.Series([1, 2, 3], name=\"Series\")\n",
    "print(ser)"
   ]
  },
  {
   "source": [
    "add labels to series"
   ],
   "cell_type": "markdown",
   "metadata": {}
  },
  {
   "cell_type": "code",
   "execution_count": 6,
   "metadata": {
    "tags": []
   },
   "outputs": [
    {
     "output_type": "stream",
     "name": "stdout",
     "text": "a    1\nb    2\nc    3\ndtype: int64\n"
    }
   ],
   "source": [
    "ser = pd.Series([1, 2, 3], index=['a', 'b', 'c'])\n",
    "print(ser)"
   ]
  },
  {
   "cell_type": "code",
   "execution_count": 7,
   "metadata": {
    "tags": []
   },
   "outputs": [
    {
     "output_type": "stream",
     "name": "stdout",
     "text": "Index(['a', 'b', 'c'], dtype='object')\n"
    }
   ],
   "source": [
    "print(ser.index)"
   ]
  },
  {
   "source": [
    "to create series from python dictionary"
   ],
   "cell_type": "markdown",
   "metadata": {}
  },
  {
   "cell_type": "code",
   "execution_count": 8,
   "metadata": {
    "tags": []
   },
   "outputs": [
    {
     "output_type": "stream",
     "name": "stdout",
     "text": "A    1\nB    2\ndtype: int64\n"
    }
   ],
   "source": [
    "ser = pd.Series({'A': 1, 'B': 2})\n",
    "print(ser)"
   ]
  },
  {
   "source": [
    "If you create series values of count 3, and index count 4. \n",
    "\n",
    "ex: \n",
    "```\n",
    "value = [1, 2, 3]\n",
    "\n",
    "indes = ['a', 'b', 'c', 'd']\n",
    "```\n",
    "value of index `d` is NaN "
   ],
   "cell_type": "markdown",
   "metadata": {}
  },
  {
   "cell_type": "code",
   "execution_count": 9,
   "metadata": {
    "tags": []
   },
   "outputs": [
    {
     "output_type": "stream",
     "name": "stdout",
     "text": "a     1.0\nb     2.0\n c    NaN\nd     NaN\ndtype: float64\n"
    }
   ],
   "source": [
    "dic = {'a': 1, 'b': 2, 'c': 3}\n",
    "ser = pd.Series(dic, index=['a', 'b',' c', 'd'])\n",
    "print(ser)"
   ]
  },
  {
   "source": [
    "But, you create series value count 4, index count 3.\n",
    "\n",
    "```\n",
    "ex:\n",
    "value = [1, 2, 3, 4]\n",
    "index = ['a', 'b', 'c']\n",
    "```\n",
    "series has 3 count value.\n"
   ],
   "cell_type": "markdown",
   "metadata": {}
  },
  {
   "cell_type": "code",
   "execution_count": 10,
   "metadata": {
    "tags": []
   },
   "outputs": [
    {
     "output_type": "stream",
     "name": "stdout",
     "text": "a    1\nb    2\nc    3\ndtype: int64\n"
    }
   ],
   "source": [
    "dic = {'a': 1, 'b': 2, 'c': 3, 'd': 4}\n",
    "ser = pd.Series(dic, index=['a', 'b', 'c'])\n",
    "print(ser)"
   ]
  },
  {
   "source": [
    "canto create series from scala value."
   ],
   "cell_type": "markdown",
   "metadata": {}
  },
  {
   "cell_type": "code",
   "execution_count": 11,
   "metadata": {
    "tags": []
   },
   "outputs": [
    {
     "output_type": "stream",
     "name": "stdout",
     "text": "A    3\nB    3\nC    3\ndtype: int64\n"
    }
   ],
   "source": [
    "print(pd.Series(3, index=['A', 'B', 'C']))"
   ]
  },
  {
   "cell_type": "code",
   "execution_count": 12,
   "metadata": {
    "tags": []
   },
   "outputs": [
    {
     "output_type": "stream",
     "name": "stdout",
     "text": "A    1\nB    2\nC    3\nD    4\nE    5\ndtype: int64\n"
    }
   ],
   "source": [
    "arr = [1, 2, 3, 4, 5]\n",
    "ser = pd.Series(arr, index=list('ABCDE'))\n",
    "print(ser)"
   ]
  },
  {
   "cell_type": "code",
   "execution_count": 13,
   "metadata": {},
   "outputs": [
    {
     "output_type": "execute_result",
     "data": {
      "text/plain": "1"
     },
     "metadata": {},
     "execution_count": 13
    }
   ],
   "source": [
    "ser['A']"
   ]
  },
  {
   "source": [
    "but at this don't use lowercase. it generates a runtime error."
   ],
   "cell_type": "markdown",
   "metadata": {}
  },
  {
   "cell_type": "code",
   "execution_count": 14,
   "metadata": {
    "tags": []
   },
   "outputs": [
    {
     "output_type": "stream",
     "name": "stdout",
     "text": "don't use key \"a\"\n"
    }
   ],
   "source": [
    "try:\n",
    "    ser['a']\n",
    "except KeyError:\n",
    "    print('don\\'t use key \"a\"')"
   ]
  },
  {
   "cell_type": "code",
   "execution_count": 15,
   "metadata": {},
   "outputs": [
    {
     "output_type": "execute_result",
     "data": {
      "text/plain": "A    1\nB    2\nC    3\ndtype: int64"
     },
     "metadata": {},
     "execution_count": 15
    }
   ],
   "source": [
    "ser['A': 'C']"
   ]
  },
  {
   "cell_type": "code",
   "execution_count": 16,
   "metadata": {
    "tags": []
   },
   "outputs": [
    {
     "output_type": "stream",
     "name": "stdout",
     "text": "1\n1\n"
    }
   ],
   "source": [
    "print(ser['A'])\n",
    "# user iloc object.\n",
    "print(ser.iloc[0])"
   ]
  },
  {
   "cell_type": "code",
   "execution_count": 17,
   "metadata": {},
   "outputs": [
    {
     "output_type": "execute_result",
     "data": {
      "text/plain": "D    4\nE    5\ndtype: int64"
     },
     "metadata": {},
     "execution_count": 17
    }
   ],
   "source": [
    "ser[ser > 3]"
   ]
  }
 ]
}